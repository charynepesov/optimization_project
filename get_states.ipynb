{
 "cells": [
  {
   "cell_type": "code",
   "execution_count": 2,
   "id": "7c6bc884-7310-45da-a308-3e7a548afd85",
   "metadata": {},
   "outputs": [],
   "source": [
    "import csv\n",
    "import requests\n",
    "from bs4 import BeautifulSoup"
   ]
  },
  {
   "cell_type": "code",
   "execution_count": 5,
   "id": "005dbf25-52e5-4890-9934-d04ff1bcadae",
   "metadata": {},
   "outputs": [],
   "source": [
    "url = 'https://tr.wikipedia.org/wiki/T%C3%BCrkiye%27nin_illeri'\n",
    "response = requests.get(url)"
   ]
  },
  {
   "cell_type": "code",
   "execution_count": 45,
   "id": "b1b03a3f-da87-463c-86c6-18393fed7cf3",
   "metadata": {},
   "outputs": [],
   "source": [
    "if response.status_code == 200:\n",
    "    with open('states_of_turkey.csv', 'w', newline='') as csvfile:\n",
    "        writer = csv.writer(csvfile, delimiter=',', quotechar='|', quoting=csv.QUOTE_MINIMAL)\n",
    "    \n",
    "        soup = BeautifulSoup(response.text, 'html.parser')\n",
    "        trs = soup.find(class_='sortable').find_all('tr')\n",
    "        for tr in trs:\n",
    "            a = tr.find('a')\n",
    "            writer.writerow([a.string])"
   ]
  }
 ],
 "metadata": {
  "kernelspec": {
   "display_name": "Python 3 (ipykernel)",
   "language": "python",
   "name": "python3"
  },
  "language_info": {
   "codemirror_mode": {
    "name": "ipython",
    "version": 3
   },
   "file_extension": ".py",
   "mimetype": "text/x-python",
   "name": "python",
   "nbconvert_exporter": "python",
   "pygments_lexer": "ipython3",
   "version": "3.11.2"
  }
 },
 "nbformat": 4,
 "nbformat_minor": 5
}
